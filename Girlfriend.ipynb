{
 "cells": [
  {
   "cell_type": "markdown",
   "metadata": {},
   "source": [
    "# Importar librerias"
   ]
  },
  {
   "cell_type": "code",
   "execution_count": 106,
   "metadata": {},
   "outputs": [],
   "source": [
    "from datetime import datetime\n",
    "import pywhatkit as pwt\n",
    "import random\n",
    "import time"
   ]
  },
  {
   "cell_type": "markdown",
   "metadata": {},
   "source": [
    "## Función del modo aleatorio\n",
    "Esta función se va utilizar para crear diferentes tiempos y tomar un mensaje a la azar de las listas precargadas "
   ]
  },
  {
   "cell_type": "code",
   "execution_count": 107,
   "metadata": {},
   "outputs": [],
   "source": [
    "rng = random.randint(0,30)"
   ]
  },
  {
   "cell_type": "markdown",
   "metadata": {},
   "source": [
    "# Número de whats"
   ]
  },
  {
   "cell_type": "code",
   "execution_count": null,
   "metadata": {},
   "outputs": [],
   "source": [
    "number = \"+5215537717999\""
   ]
  },
  {
   "cell_type": "markdown",
   "metadata": {},
   "source": [
    "## Creación de mensajes\n",
    "Se crean arrays o \"listas\" de diferentes mensajes"
   ]
  },
  {
   "cell_type": "code",
   "execution_count": 108,
   "metadata": {},
   "outputs": [],
   "source": [
    "message_moorning = [\n",
    "    \"buenos días amor 🥰\",\n",
    "    \"Ya despiertate guapa ❤️❤️❤️\",\n",
    "    \"amor ten un bonito día 🥰\",\n",
    "    \"Feliz día hermosa 🥰🥰🥰\",\n",
    "    \"como amanecio mi princesa hermosa 🥰 ???\"]\n",
    "\n",
    "message_night  = [\n",
    "    \"buenas noches bb te amo 😘<3\",\n",
    "    \"Buenas noches mi amor 🥰\",\n",
    "    \"ya me voy a dormir amor, te amo 🥰\",\n",
    "    \"me voy a dormir te veo mañana amor 😍\",\n",
    "    \"me voy hechar un sueñito amor, si me quedo dormido sulces sueños bb 😍😍😍\"\n",
    "    ]\n",
    "message_work = [\n",
    "    \"Ya me voy al trabajo bebe, te veo en la noche ❤️❤️❤️\",\n",
    "    \"Me voy a trabajar amor <3\",\n",
    "    \"Ya voy a la oficina amor <3\",\n",
    "]\n",
    "message_return = [\n",
    "    \"Hola amor ya llegue a mi casa\"\n",
    "]\n",
    "message_home = [\n",
    "    \"Amor ya me voy a la casa 🥰🥰🥰\",\n",
    "    \"Cariño ya voy de regreso 🥰🥰🥰\",\n",
    "    \"Hola amor ya voy para la casa 🥰🥰🥰\",\n",
    "    \"Voy de regreso amor 🥰🥰🥰\"\n",
    "]"
   ]
  },
  {
   "cell_type": "markdown",
   "metadata": {},
   "source": [
    "Opcionalmente hacemos un cambio de variable con un mensaje de las listas selecionado aleatoriamente"
   ]
  },
  {
   "cell_type": "code",
   "execution_count": 109,
   "metadata": {},
   "outputs": [],
   "source": [
    "mensaje_mañana = message_moorning[random.randint(0,len(message_moorning))]\n",
    "mensaje_noche = message_night[random.randint(0,len(message_night))]\n",
    "mensaje_trabajo = message_work[random.randint(0,len(message_work))]\n",
    "mensaje_casa = message_home[random.randint(0,len(message_home))]"
   ]
  },
  {
   "cell_type": "markdown",
   "metadata": {},
   "source": [
    "Corroboramos el mensaje que se enviarán a lo largo del día"
   ]
  },
  {
   "cell_type": "code",
   "execution_count": 110,
   "metadata": {},
   "outputs": [
    {
     "name": "stdout",
     "output_type": "stream",
     "text": [
      "amor ten un bonito día 🥰\n",
      "Ya me voy al trabajo bebe, te veo en la noche ❤️❤️❤️\n",
      "Voy de regreso amor 🥰🥰🥰\n",
      "me voy hechar un sueñito amor, si me quedo dormido sulces sueños bb 😍😍😍\n"
     ]
    }
   ],
   "source": [
    "print(mensaje_mañana)\n",
    "print(mensaje_trabajo)\n",
    "print(mensaje_casa)\n",
    "print(mensaje_noche)"
   ]
  },
  {
   "cell_type": "markdown",
   "metadata": {},
   "source": [
    "# Creación de funciones para enviar mensajes\n",
    "Es donde ocurre la magía, es donde se crean las funciones las cuales envían los mensajes en caso de que ocurra un error se imprimirá un mensaje y el programa pueda seguir funcionando, como por ejemplo, durante el transcurso del día usted no posea conexión a internet y no se conecte la whatsappweb, notese que en la función aleatoría se ponen intervalos con diferentes tiempos para evitar enviar el mensaje a la misma hora todos los días"
   ]
  },
  {
   "cell_type": "markdown",
   "metadata": {},
   "source": [
    "La función se utiliza como:\n",
    "\n",
    "pwt.sendwhatmsg(numero de whats, mensaje, hora, minuto, tiempo de cierre de ventana)\n",
    "_La hora_ va de 0-23 horas\n",
    "\n",
    "_Los minutos_ van de 0,1,2,3,4,5,6,7,8,9,10,...,59\n",
    "\n",
    "_El tiempo de cierre de ventana_ va en segundos, después de enviar el mensaje la ventana se cierra para evitar estar conectado el resto del día \n"
   ]
  },
  {
   "cell_type": "markdown",
   "metadata": {},
   "source": [
    "### Función mensaje de buenos días "
   ]
  },
  {
   "cell_type": "code",
   "execution_count": 111,
   "metadata": {},
   "outputs": [],
   "source": [
    "def good_morning_(number,mensaje_, hora, minuto):\n",
    "    try:\n",
    "        pwt.sendwhatmsg(number, mensaje_, hora, minuto, 40)\n",
    "        return print (\"Mensaje buenos días enviado con exito\")\n",
    "    except:\n",
    "        print(\"error al enviar mensaje de buenos días\")"
   ]
  },
  {
   "cell_type": "markdown",
   "metadata": {},
   "source": [
    "### Función mensaje de me dirijo al trabajo"
   ]
  },
  {
   "cell_type": "code",
   "execution_count": 112,
   "metadata": {},
   "outputs": [],
   "source": [
    "def go_to_work_(number,mensaje_, hora, minuto):\n",
    "    try:\n",
    "        pwt.sendwhatmsg(number, mensaje_, hora, minuto, 40)\n",
    "        return print (\"Mensaje voy al trabajo enviado con exito\")\n",
    "    except:\n",
    "        print(\"error al enviar mensaje al trabajo\")"
   ]
  },
  {
   "cell_type": "markdown",
   "metadata": {},
   "source": [
    "### Función mensaje de regreso a la casa"
   ]
  },
  {
   "cell_type": "code",
   "execution_count": 113,
   "metadata": {},
   "outputs": [],
   "source": [
    "def go_to_home_(number,mensaje_, hora, minuto):\n",
    "    try:\n",
    "        pwt.sendwhatmsg(number, mensaje_, hora, minuto, 40)\n",
    "        return print (\"Mensaje voy a la casa enviado con exito\")\n",
    "    except:\n",
    "        print(\"error al enviar mensaje de regreso a casa\")"
   ]
  },
  {
   "cell_type": "markdown",
   "metadata": {},
   "source": [
    "### Función mensaje de he llegado a la casa"
   ]
  },
  {
   "cell_type": "code",
   "execution_count": 114,
   "metadata": {},
   "outputs": [],
   "source": [
    "def return_to_home_(number,mensaje_, hora, minuto):\n",
    "    try:\n",
    "        pwt.sendwhatmsg(number, mensaje_, hora, minuto, 40)\n",
    "        return print (\"Mensaje he llegado a casa enviado con exito\")\n",
    "    except:\n",
    "        print(\"error al enviar mensaje de llegue a casa a casa\")"
   ]
  },
  {
   "cell_type": "markdown",
   "metadata": {},
   "source": [
    "### Función mensaje de buenas noches"
   ]
  },
  {
   "cell_type": "code",
   "execution_count": 115,
   "metadata": {},
   "outputs": [],
   "source": [
    "def good_nigh_(number,mensaje_, hora, minuto):\n",
    "    try:\n",
    "        pwt.sendwhatmsg(number, mensaje_, hora, minuto, 40)\n",
    "        return print (\"Mensaje buenas noches enviado con exito\")\n",
    "    except:\n",
    "        print(\"error al enviar mensaje de buenas noches\")"
   ]
  },
  {
   "cell_type": "markdown",
   "metadata": {},
   "source": [
    "# Obtener hora\n",
    "\n",
    "Se obtiene la hora de la computadora y dependiendo de la hora es la función que se somete a una condicional que invoca la función correcta para enviar el mensaje, además, agregamos una función ciclica para que el programa siempre este funcionando, hasta que el usuario lo interrumpa"
   ]
  },
  {
   "cell_type": "code",
   "execution_count": 117,
   "metadata": {},
   "outputs": [
    {
     "name": "stdout",
     "output_type": "stream",
     "text": [
      "23\n",
      "23\n"
     ]
    },
    {
     "ename": "KeyboardInterrupt",
     "evalue": "",
     "output_type": "error",
     "traceback": [
      "\u001b[0;31m---------------------------------------------------------------------------\u001b[0m",
      "\u001b[0;31mKeyboardInterrupt\u001b[0m                         Traceback (most recent call last)",
      "\u001b[1;32m/home/rich/Desktop/Whats/Messages.ipynb Cell 24\u001b[0m in \u001b[0;36m<cell line: 4>\u001b[0;34m()\u001b[0m\n\u001b[1;32m     <a href='vscode-notebook-cell:/home/rich/Desktop/Whats/Messages.ipynb#X36sZmlsZQ%3D%3D?line=15'>16</a>\u001b[0m hora \u001b[39m=\u001b[39m now\u001b[39m.\u001b[39mhour\n\u001b[1;32m     <a href='vscode-notebook-cell:/home/rich/Desktop/Whats/Messages.ipynb#X36sZmlsZQ%3D%3D?line=16'>17</a>\u001b[0m \u001b[39mprint\u001b[39m (hora)\n\u001b[0;32m---> <a href='vscode-notebook-cell:/home/rich/Desktop/Whats/Messages.ipynb#X36sZmlsZQ%3D%3D?line=17'>18</a>\u001b[0m time\u001b[39m.\u001b[39;49msleep(\u001b[39m60\u001b[39;49m)\n",
      "\u001b[0;31mKeyboardInterrupt\u001b[0m: "
     ]
    }
   ],
   "source": [
    "now = datetime.now()\n",
    "hora = now.hour\n",
    "hora\n",
    "while hora < 25:\n",
    "    if hora == 6:\n",
    "        good_morning_(number,mensaje_mañana, hora, random.randint(1,15))\n",
    "    elif hora == 7:\n",
    "        go_to_work_(number,mensaje_trabajo, hora, random.randint(1,25))\n",
    "    elif hora == 18:\n",
    "        go_to_home_(number,mensaje_casa, hora, random.randint(1,10))\n",
    "    elif hora == 20:\n",
    "        return_to_home_(number,message_return, hora, random.randint(1,30))\n",
    "    elif hora == 22:\n",
    "        good_nigh_(number,mensaje_noche, hora, random.randint(1,30))\n",
    "    else:\n",
    "        hora = now.hour\n",
    "        print (hora)\n",
    "        time.sleep(60)\n",
    "        "
   ]
  }
 ],
 "metadata": {
  "kernelspec": {
   "display_name": "Python 3.10.6 ('Whats')",
   "language": "python",
   "name": "python3"
  },
  "language_info": {
   "codemirror_mode": {
    "name": "ipython",
    "version": 3
   },
   "file_extension": ".py",
   "mimetype": "text/x-python",
   "name": "python",
   "nbconvert_exporter": "python",
   "pygments_lexer": "ipython3",
   "version": "3.10.6"
  },
  "orig_nbformat": 4,
  "vscode": {
   "interpreter": {
    "hash": "dec1c97e1de4d771784b4ab23abc71db09e6842278942266f4f9be769c2509e3"
   }
  }
 },
 "nbformat": 4,
 "nbformat_minor": 2
}
